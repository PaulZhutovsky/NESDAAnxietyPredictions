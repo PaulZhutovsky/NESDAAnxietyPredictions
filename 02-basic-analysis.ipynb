{
 "cells": [
  {
   "cell_type": "code",
   "execution_count": 1,
   "metadata": {},
   "outputs": [],
   "source": [
    "import numpy as np\n",
    "import pandas as pd\n",
    "from sklearn.ensemble import RandomForestClassifier\n",
    "from sklearn.compose import ColumnTransformer\n",
    "from sklearn.pipeline import Pipeline\n",
    "from sklearn.impute import SimpleImputer\n",
    "from sklearn.preprocessing import OneHotEncoder\n",
    "from sklearn.model_selection import StratifiedShuffleSplit, cross_validate\n",
    "from sklearn.linear_model import LogisticRegressionCV"
   ]
  },
  {
   "cell_type": "code",
   "execution_count": 2,
   "metadata": {},
   "outputs": [],
   "source": [
    "df = pd.read_csv('nesda_anxiety_with_missing_NaN.csv')\n",
    "df_dtype = pd.read_csv('nesda_anxiety_data_types_with_missing_removed.csv')\n",
    "y = df.persistance_anxiety.values\n",
    "df.drop('persistance_anxiety', axis=1, inplace=True)"
   ]
  },
  {
   "cell_type": "markdown",
   "metadata": {},
   "source": [
    "### Let's drop all the summary scores and only use the individual scores (for now)"
   ]
  },
  {
   "cell_type": "code",
   "execution_count": 3,
   "metadata": {},
   "outputs": [
    {
     "name": "stdout",
     "output_type": "stream",
     "text": [
      "Index(['IA205_summary', 'IA226_domainpa_summary', 'IA226_domainna_summary',\n",
      "       'IA226_domainsa_summary', 'IA229_summary', 'IA232_summary',\n",
      "       'IA233_summary', 'IA235_total_summary', 'IA235_domainatyp_summary',\n",
      "       'IA235_domainmel_summary', 'IA236_total_summary',\n",
      "       'IA236_domainsom_summary', 'IA236_domainsub_summary',\n",
      "       'IA238_total_summary', 'IA238_domainbi_summary',\n",
      "       'IA238_domainso_summary', 'IA238_domainag_summary',\n",
      "       'IA252_lifeevents_summary', 'IA252_childhoodtrauma_summary',\n",
      "       'IA254_summary', 'IA255_summary', 'IA256_items_summary',\n",
      "       'IA257_current_summary', 'IA257_lifetime_summary',\n",
      "       'IA259_current_summary', 'IA306_domain01_summary',\n",
      "       'IA306_domain02_summary', 'IA306_domain03_summary',\n",
      "       'IA306_domain04_summary', 'IA306_domain05h_summary',\n",
      "       'IA306_domain05w_summary', 'IA306_domain06_summary',\n",
      "       'IA306_total_summary', 'IA354_domainfirstline_summary',\n",
      "       'IA354_domainsecondline_summary', 'IA355_domainfirstline_summary',\n",
      "       'IA355_domainsecondline_summary', 'IA354and355_firstline_summary',\n",
      "       'IA354and355_secondline_summary', 'IIA227_summary',\n",
      "       'IIA228_domainho_summary', 'IIA228_domainac_summary',\n",
      "       'IIA228_domainag_summary', 'IIA228_domainco_summary',\n",
      "       'IIA228_domainri_summary', 'IIA228_domainru_summary', 'IIA228_summary',\n",
      "       'IIA234_summary', 'IIA240_domainneu_summary', 'IIA240_domainex_summary',\n",
      "       'IIA240_domainop_summary', 'IIA240_domainag_summary',\n",
      "       'IIA240_domainco_summary', 'IIIA109_domainde_summary',\n",
      "       'IIIA109_domainau_summary', 'IIIA109_domainsk_summary',\n",
      "       'IIIA109_domainso_summary', 'IIIA109_domainse_summary',\n",
      "       'IIIA230_summary', 'IIIA230_domainem_summary',\n",
      "       'IIIA230_domainso_summary', 'IIIA237_domainpr_summary',\n",
      "       'IIIA237_domainre_summary', 'IIIA237_summary',\n",
      "       'IIIA239_01_domainco_summary', 'IIIA239_01_domainpr_summary',\n",
      "       'IIIA239_01_domainne_summary', 'IVA406_summary', 'IVA409_summary',\n",
      "       'VA206_scale_summary', 'VA206_dich_summary'],\n",
      "      dtype='object')\n",
      "n_summary: 71\n",
      "n_remaining: 637\n"
     ]
    }
   ],
   "source": [
    "id_summary = df.columns.str.find('summary') != -1\n",
    "print(df.columns[id_summary])\n",
    "print('n_summary: {}'.format(id_summary.sum()))\n",
    "print('n_remaining: {}'.format(df.shape[1] - id_summary.sum())) "
   ]
  },
  {
   "cell_type": "code",
   "execution_count": 4,
   "metadata": {},
   "outputs": [
    {
     "name": "stdout",
     "output_type": "stream",
     "text": [
      "Dimensions WITH summary scores\n",
      "(994, 708)\n",
      "Dimensons WITHOUT summary scores\n",
      "(994, 637)\n"
     ]
    }
   ],
   "source": [
    "col_summary = df.columns[id_summary].values\n",
    "print('Dimensions WITH summary scores')\n",
    "print(df.shape)\n",
    "df.drop(col_summary, axis=1, inplace=True)\n",
    "print('Dimensons WITHOUT summary scores')\n",
    "print(df.shape)"
   ]
  },
  {
   "cell_type": "code",
   "execution_count": 5,
   "metadata": {},
   "outputs": [],
   "source": [
    "df_dtype = df_dtype.loc[~df_dtype.variable_name.isin(col_summary).values, :]\n",
    "df_dtype.reset_index(drop=True, inplace=True)"
   ]
  },
  {
   "cell_type": "code",
   "execution_count": 6,
   "metadata": {},
   "outputs": [],
   "source": [
    "assert np.all(df.columns == df_dtype.variable_name), 'Order of column_names is broken'"
   ]
  },
  {
   "cell_type": "code",
   "execution_count": 7,
   "metadata": {},
   "outputs": [
    {
     "name": "stderr",
     "output_type": "stream",
     "text": [
      "[Parallel(n_jobs=15)]: Using backend LokyBackend with 15 concurrent workers.\n",
      "[Parallel(n_jobs=15)]: Done  20 tasks      | elapsed:  1.3min\n"
     ]
    },
    {
     "name": "stdout",
     "output_type": "stream",
     "text": [
      "RandomForest on individual scores with mean/median/mode imputation\n",
      "balanced accuracy: [0.59879935 0.61619862 0.6717033  0.56817257 0.62311762 0.68879731\n",
      " 0.60373423 0.63583639 0.64626577 0.65262515 0.67114367 0.57916158\n",
      " 0.59305047 0.66391941 0.63817664 0.63181726 0.60576923 0.63354701\n",
      " 0.61589337 0.63064713 0.61935287 0.62138787 0.67607855 0.61706349\n",
      " 0.64860602 0.67200855 0.59620472 0.62484737 0.55428368 0.57885633\n",
      " 0.67287342 0.6011396  0.62108262 0.59188034 0.63583639 0.63614164\n",
      " 0.59361009 0.66478429 0.61731787 0.620523   0.61731787 0.58206146\n",
      " 0.62891738 0.66188441 0.58552096 0.69485144 0.64799552 0.629477\n",
      " 0.59305047 0.68905169 0.62774725 0.60200448 0.55631868 0.66651404\n",
      " 0.65638991 0.55082418 0.65638991 0.64713065 0.63731176 0.67663818\n",
      " 0.66910867 0.6280525  0.6474359  0.61385836 0.63410663 0.64250102\n",
      " 0.61126374 0.59132072 0.64077127 0.66015466 0.65120065 0.60200448\n",
      " 0.63095238 0.66101954 0.62632275 0.61126374 0.62311762 0.60546398\n",
      " 0.66534392 0.63904151 0.61472324 0.59274522 0.59447497 0.5976801\n",
      " 0.59854497 0.6280525  0.70324583 0.64077127 0.68793244 0.65003053\n",
      " 0.5707672  0.61675824 0.61589337 0.62082825 0.59391534 0.68040293\n",
      " 0.56527269 0.55860806 0.64713065 0.6031746 ]\n",
      "Mean/SD: 0.6267490842490843/0.03376804725160898\n",
      "\n",
      "AUC: [0.64565527 0.68406593 0.74521775 0.6765873  0.70848596 0.75905576\n",
      " 0.65120065 0.67684168 0.71820309 0.68681319 0.6771978  0.60368335\n",
      " 0.62571225 0.70395808 0.70543346 0.70095645 0.66824379 0.70848596\n",
      " 0.63888889 0.65430403 0.66478429 0.6519129  0.7518315  0.66432641\n",
      " 0.6788258  0.7041107  0.64473952 0.69622507 0.60098698 0.67134717\n",
      " 0.70950346 0.62840863 0.66442816 0.63252951 0.70975783 0.71789784\n",
      " 0.6521164  0.67765568 0.67531543 0.66702279 0.67053317 0.6712963\n",
      " 0.68828856 0.71972934 0.61319699 0.73331298 0.69500407 0.69184982\n",
      " 0.67562068 0.72115385 0.70919821 0.69022182 0.63227513 0.71484534\n",
      " 0.73758649 0.62098087 0.71606634 0.71311559 0.70344933 0.73056573\n",
      " 0.70924908 0.69022182 0.70629833 0.65216728 0.68945869 0.70324583\n",
      " 0.65659341 0.66244404 0.70416158 0.72568173 0.7267501  0.65878103\n",
      " 0.6953602  0.72420635 0.66671754 0.63573464 0.71077534 0.63970289\n",
      " 0.75564713 0.72461335 0.6767908  0.63787139 0.63420838 0.65679691\n",
      " 0.68060643 0.68559219 0.76653439 0.68482906 0.75788563 0.67460317\n",
      " 0.63303826 0.63380138 0.65537241 0.66641229 0.66157916 0.74323362\n",
      " 0.64133089 0.63654864 0.68182743 0.66814204]\n",
      "Mean/SD: 0.6826582214082215/0.03672710343059496\n"
     ]
    },
    {
     "name": "stderr",
     "output_type": "stream",
     "text": [
      "[Parallel(n_jobs=15)]: Done 100 out of 100 | elapsed:  1.8min finished\n"
     ]
    }
   ],
   "source": [
    "categorical_pipeline = Pipeline(steps=[\n",
    "    ('categorical_impute', SimpleImputer(strategy='most_frequent')),\n",
    "    ('onehot', OneHotEncoder(sparse=False, categories='auto', handle_unknown='ignore'))\n",
    "])\n",
    "\n",
    "ordinal_pipeline = Pipeline(steps=[\n",
    "    ('ordinal_impute', SimpleImputer(strategy='median')),\n",
    "])\n",
    "\n",
    "interval_pipeline = Pipeline(steps=[\n",
    "    ('interval_impute', SimpleImputer(strategy='mean')),\n",
    "])\n",
    "\n",
    "imputer = ColumnTransformer(transformers=[\n",
    "    ('categorical_impute', categorical_pipeline, df_dtype.variable_name[(df_dtype.data_type == 'Nominal').values]),\n",
    "    ('ordinal_impute', ordinal_pipeline, df_dtype.variable_name[(df_dtype.data_type == 'Ordinal').values]),\n",
    "    ('interval_impute', interval_pipeline, df_dtype.variable_name[(df_dtype.data_type == 'Scale').values])\n",
    "])\n",
    "pipe_classification = Pipeline(steps=[\n",
    "    ('imputation', imputer),\n",
    "    ('random_forest', RandomForestClassifier(n_estimators=500, class_weight='balanced'))\n",
    "])\n",
    "\n",
    "scores = cross_validate(estimator=pipe_classification, X=df, y=y, scoring=('balanced_accuracy', 'recall', 'roc_auc'),\n",
    "                       cv=StratifiedShuffleSplit(test_size=0.2, n_splits=100), n_jobs=15, verbose=1)\n",
    "\n",
    "print('RandomForest on individual scores with mean/median/mode imputation')\n",
    "print('balanced accuracy: {}'.format(scores['test_balanced_accuracy']))\n",
    "print('Mean/SD: {}/{}'.format(scores['test_balanced_accuracy'].mean(), scores['test_balanced_accuracy'].std()))\n",
    "print()\n",
    "\n",
    "print('AUC: {}'.format(scores['test_roc_auc']))\n",
    "print('Mean/SD: {}/{}'.format(scores['test_roc_auc'].mean(), scores['test_roc_auc'].std()))"
   ]
  }
 ],
 "metadata": {
  "kernelspec": {
   "display_name": "Python 3",
   "language": "python",
   "name": "python3"
  },
  "language_info": {
   "codemirror_mode": {
    "name": "ipython",
    "version": 3
   },
   "file_extension": ".py",
   "mimetype": "text/x-python",
   "name": "python",
   "nbconvert_exporter": "python",
   "pygments_lexer": "ipython3",
   "version": "3.7.0"
  }
 },
 "nbformat": 4,
 "nbformat_minor": 2
}

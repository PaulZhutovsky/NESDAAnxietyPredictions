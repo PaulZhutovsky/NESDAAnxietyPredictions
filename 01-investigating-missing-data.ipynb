{
 "cells": [
  {
   "cell_type": "code",
   "execution_count": 1,
   "metadata": {},
   "outputs": [],
   "source": [
    "%matplotlib inline\n",
    "import pandas as pd\n",
    "import numpy as np\n",
    "import seaborn as sns\n",
    "import warnings \n",
    "warnings.simplefilter(action='ignore', category=FutureWarning)"
   ]
  },
  {
   "cell_type": "code",
   "execution_count": 2,
   "metadata": {},
   "outputs": [],
   "source": [
    "def load_data():\n",
    "    df = pd.read_csv('nesda_anxiety_file_numbers.csv').astype(np.float)\n",
    "    df_dtypes = pd.read_csv('nesda_anxiety_data_types.csv')\n",
    "    y = df.persistance_anxiety\n",
    "    col_to_remove = ['Pident', 'persistance_anxiety', 'persistance_any', 'cbaiscal', 'pureanxiety', 'Class', 'cduration', 'ctot32mv']\n",
    "    df.drop(col_to_remove, axis='columns', inplace=True)\n",
    "    id_remove = df_dtypes.variable_name.isin(col_to_remove)\n",
    "    df_dtypes = df_dtypes.loc[~id_remove]\n",
    "    df_dtypes.reset_index(drop=True, inplace=True)\n",
    "    print(df.shape)\n",
    "    print(y.value_counts())\n",
    "    return df, df_dtypes, y"
   ]
  },
  {
   "cell_type": "code",
   "execution_count": 3,
   "metadata": {},
   "outputs": [],
   "source": [
    "def check_for_missing(df, df_dtypes, missing_value=-9, replace_missing=False, make_plot=True, threshold_to_drop_perc=None):\n",
    "    n_subj = df.shape[0]\n",
    "    missing_per_feature = (df == missing_value).sum(axis=0).values\n",
    "    missing_per_feature_perc = missing_per_feature/n_subj * 100\n",
    "    \n",
    "    if make_plot:\n",
    "        sns.distplot(missing_per_feature_perc, rug=True)\n",
    "        \n",
    "    if threshold_to_drop_perc:\n",
    "        id_drop = missing_per_feature_perc > threshold_to_drop_perc\n",
    "        assert np.all(df.columns[id_drop] == df_dtypes.variable_name[id_drop]), 'dtypes df and data df do not align'\n",
    "        print('Dropped variables:')\n",
    "        print('{}'.format(df.columns[id_drop]))\n",
    "        print('Percentage missing (value={}): {}'.format(missing_value, missing_per_feature_perc[id_drop]))\n",
    "        id_keep = ~id_drop\n",
    "        df = df.loc[:, df.columns[id_keep]]\n",
    "        df_dtypes = df_dtypes.loc[id_keep, :]\n",
    "        df_dtypes.reset_index(drop=True, inplace=True)\n",
    "    \n",
    "    if replace_missing:\n",
    "        df.replace(to_replace=missing_value, value=np.nan, inplace=True)\n",
    "        \n",
    "    return df, df_dtypes, missing_per_feature_perc"
   ]
  },
  {
   "cell_type": "code",
   "execution_count": 4,
   "metadata": {},
   "outputs": [
    {
     "name": "stdout",
     "output_type": "stream",
     "text": [
      "(994, 723)\n",
      "0.0    540\n",
      "1.0    454\n",
      "Name: persistance_anxiety, dtype: int64\n"
     ]
    }
   ],
   "source": [
    "df, df_dtypes, y = load_data()"
   ]
  },
  {
   "cell_type": "markdown",
   "metadata": {},
   "source": [
    "### Investigations into missing values. Explicitly marked as missing are: \n",
    "1. -9 - data not collected \n",
    "2. -8 - not applicable\n",
    "3. -7 - could not be calculated\n",
    "\n",
    "(1) will be replaced by NaN (normal missing value) and variables will be investigated and dropped if they have to many values missing; (2) will be set to 0 (should not play a role for a particular subject) (but see the investigations below) and (3) will be investigated in more detail but set as NaN (i.e. missing) as well"
   ]
  },
  {
   "cell_type": "code",
   "execution_count": 5,
   "metadata": {},
   "outputs": [
    {
     "data": {
      "image/png": "[encoded data removed]",
      "text/plain": [
       "<Figure size 432x288 with 1 Axes>"
      ]
     },
     "metadata": {
      "needs_background": "light"
     },
     "output_type": "display_data"
    }
   ],
   "source": [
    "_ = check_for_missing(df, df_dtypes, missing_value=-9)"
   ]
  },
  {
   "cell_type": "markdown",
   "metadata": {},
   "source": [
    "#### Based on what can be seen in the plot we decided to drop the variables with more than 20% missing values (6 variables)"
   ]
  },
  {
   "cell_type": "code",
   "execution_count": 6,
   "metadata": {},
   "outputs": [
    {
     "name": "stdout",
     "output_type": "stream",
     "text": [
      "Dropped variables:\n",
      "Index(['IA235_10', 'IA235_11', 'IVA413_01', 'IVA491_01', 'IVA491_02',\n",
      "       'IVA491_03'],\n",
      "      dtype='object')\n",
      "Percentage missing (value=-9): [59.75855131 57.34406439 22.73641851 40.44265594 31.58953722 35.11066398]\n"
     ]
    }
   ],
   "source": [
    "df, df_dtypes, _ = check_for_missing(df, df_dtypes, missing_value=-9, make_plot=False, replace_missing=True, threshold_to_drop_perc=20)"
   ]
  },
  {
   "cell_type": "code",
   "execution_count": 8,
   "metadata": {},
   "outputs": [
    {
     "data": {
      "image/png": "[encoded data removed]",
      "text/plain": [
       "<Figure size 432x288 with 1 Axes>"
      ]
     },
     "metadata": {
      "needs_background": "light"
     },
     "output_type": "display_data"
    }
   ],
   "source": [
    "_, _, missing_values_perc = check_for_missing(df, df_dtypes, missing_value=-8)"
   ]
  },
  {
   "cell_type": "code",
   "execution_count": 9,
   "metadata": {},
   "outputs": [
    {
     "name": "stdout",
     "output_type": "stream",
     "text": [
      "Variables with \"not applicable\" missing values\n",
      "Nominal\n",
      "['IA301_01' 'IA301_18' 'IA301_17' 'IA301_16' 'IA301_15' 'IA301_14'\n",
      " 'IA301_13' 'IA301_11' 'IA301_10' 'IA301_12' 'IA301_08' 'IA301_07'\n",
      " 'IA301_06' 'IA301_05' 'IA301_04' 'IA301_03' 'IA301_02' 'IA301_09'\n",
      " 'IIIA204_11' 'IIIA204_15' 'IIIA204_14' 'IIIA204_13' 'IIIA204_12'\n",
      " 'IIIA204_10' 'IA303_19' 'IA303_16' 'IA303_18' 'IA303_15' 'IA303_20'\n",
      " 'IA303_17' 'IIIA111_21' 'IIIA111_16' 'IIIA111_17' 'IIIA111_11'\n",
      " 'IIIA111_10' 'IIIA111_09' 'IIIA111_08' 'IIIA111_07' 'IIIA111_06'\n",
      " 'IIIA111_13' 'IIIA111_14' 'IVA351_01' 'IVA351_05' 'IVA351_04'\n",
      " 'IIIA103_04' 'IIIA111_03']\n",
      "46/113 variable\n",
      "Percentage missing: [ 9.65794769  9.65794769  9.65794769  9.65794769  9.65794769  9.65794769\n",
      "  9.65794769  9.65794769  9.65794769  9.65794769  9.65794769  9.65794769\n",
      "  9.65794769  9.65794769  9.65794769  9.65794769  9.65794769  9.65794769\n",
      " 17.90744467 17.90744467 17.90744467 17.90744467 17.90744467 17.90744467\n",
      " 23.34004024 23.34004024 23.34004024 23.34004024 23.34004024 23.34004024\n",
      " 30.98591549 30.98591549 30.98591549 30.98591549 30.98591549 30.98591549\n",
      " 30.98591549 30.98591549 30.98591549 30.98591549 30.98591549 32.69617706\n",
      " 32.69617706 32.69617706 34.90945674 45.87525151]\n",
      "(Percentage missing min/max: 9.6579476861167/45.87525150905433)\n",
      "Min/Max values of the variables:\n",
      "Min: [0. 0. 0. 0. 0. 0. 0. 0. 0. 0. 0. 0. 0. 0. 0. 0. 0. 0. 0. 0. 0. 0. 0. 0.\n",
      " 0. 0. 0. 0. 0. 0. 0. 0. 0. 0. 0. 0. 0. 0. 0. 0. 0. 0. 0. 0. 0. 0.]\n",
      "Max: [ 5.  5.  5.  5.  5.  5.  5.  5.  5.  5.  5.  5.  5.  5.  5.  5.  5.  5.\n",
      "  2.  2.  2.  2.  2.  2.  2.  2.  2.  2.  2.  2.  1.  1.  1.  1.  1.  1.\n",
      "  1.  1.  1.  1.  1.  3.  2.  2. 10.  4.]\n",
      "\n",
      "Ordinal\n",
      "['IIIA239_18' 'IIIA239_21' 'IIIA239_17' 'IIIA239_16' 'IIIA239_15'\n",
      " 'IIIA239_14' 'IIIA239_19' 'IIIA239_20' 'IIIA239_22' 'IIIA239_23'\n",
      " 'IIIA239_24' 'IIIA239_25' 'IIIA239_26' 'IIIA239_05' 'IIIA239_06'\n",
      " 'IIIA239_07' 'IIIA239_03' 'IIIA239_09' 'IIIA239_10' 'IIIA239_11'\n",
      " 'IIIA239_12' 'IIIA239_04' 'IIIA239_08' 'IA306_26' 'IA306_29' 'IA306_28'\n",
      " 'IA306_27' 'IIIA239_30' 'IIIA239_36' 'IIIA239_35' 'IIIA239_34'\n",
      " 'IIIA239_33' 'IIIA239_32' 'IIIA239_38' 'IIIA239_37' 'IIIA239_29'\n",
      " 'IIIA239_28' 'IIIA239_27' 'IIIA239_31' 'IIIA108_03' 'IIIA108_04']\n",
      "41/113 variable\n",
      "Percentage missing: [23.94366197 23.94366197 23.94366197 23.94366197 23.94366197 23.94366197\n",
      " 23.94366197 23.94366197 23.94366197 23.94366197 23.94366197 23.94366197\n",
      " 23.94366197 34.60764588 34.60764588 34.60764588 34.60764588 34.60764588\n",
      " 34.60764588 34.60764588 34.60764588 34.60764588 34.60764588 35.41247485\n",
      " 35.41247485 35.41247485 35.41247485 43.25955734 43.25955734 43.25955734\n",
      " 43.25955734 43.25955734 43.25955734 43.25955734 43.25955734 43.25955734\n",
      " 43.25955734 43.25955734 43.25955734 64.08450704 64.08450704]\n",
      "(Percentage missing min/max: 23.943661971830984/64.08450704225352)\n",
      "Min/Max values of the variables:\n",
      "Min: [0. 0. 0. 0. 0. 0. 0. 0. 0. 0. 0. 0. 0. 0. 0. 0. 0. 0. 0. 0. 0. 0. 0. 0.\n",
      " 0. 0. 0. 0. 0. 0. 0. 0. 0. 0. 0. 0. 0. 0. 0. 0. 0.]\n",
      "Max: [5. 5. 5. 5. 5. 5. 5. 5. 5. 5. 5. 5. 2. 5. 5. 5. 5. 5. 5. 5. 5. 5. 5. 5.\n",
      " 5. 5. 5. 5. 5. 5. 5. 5. 5. 5. 5. 5. 5. 5. 5. 4. 6.]\n",
      "\n",
      "Scale\n",
      "['IIIA104_02' 'IIIA102_02' 'IIIA102_03' 'IIIA102_04' 'IA271_01' 'IA271_02'\n",
      " 'IIIA109_domainse_summary' 'IIIA109_domainsk_summary'\n",
      " 'IIIA109_domainau_summary' 'IIIA109_domainso_summary'\n",
      " 'IIIA109_domainde_summary' 'VA200_03' 'IIIA239_01_domainco_summary'\n",
      " 'IIIA239_01_domainpr_summary' 'IIIA239_01_domainne_summary' 'IIIA103_03'\n",
      " 'IA306_domain05w_summary' 'IA271_03' 'IIIA111_02' 'IIIA111_04'\n",
      " 'IVA351_02' 'IVA351_03' 'VA200_02' 'IIIA111_12' 'IIIA111_18' 'IIIA111_15']\n",
      "26/113 variable\n",
      "Percentage missing: [ 0.20120724  2.81690141  2.81690141  2.81690141  5.63380282 19.81891348\n",
      " 24.74849095 24.74849095 24.74849095 24.74849095 24.74849095 26.55935614\n",
      " 34.60764588 34.60764588 34.60764588 34.90945674 35.41247485 41.34808853\n",
      " 45.87525151 45.87525151 53.42052314 53.42052314 57.14285714 65.69416499\n",
      " 96.98189135 98.89336016]\n",
      "(Percentage missing min/max: 0.2012072434607646/98.8933601609658)\n",
      "Min/Max values of the variables:\n",
      "Min: [0. 0. 0. 0. 0. 0. 0. 0. 0. 0. 0. 0. 0. 0. 0. 0. 0. 0. 0. 0. 0. 0. 0. 0.\n",
      " 0. 0.]\n",
      "Max: [1.60e+01 5.00e+01 4.90e+01 4.80e+01 1.00e+00 1.00e+00 1.00e+00 1.00e+00\n",
      " 1.00e+00 1.00e+00 1.00e+00 5.10e+01 2.00e+01 1.00e+01 2.00e+01 1.80e+01\n",
      " 1.60e+01 1.00e+00 7.00e+00 7.00e+00 1.80e+02 5.11e+03 5.00e+01 5.00e+00\n",
      " 3.00e+00 3.00e+00]\n",
      "\n"
     ]
    }
   ],
   "source": [
    "not_applicable_names_dtypes = df_dtypes.loc[missing_values_perc > 0]\n",
    "missing_values_perc_true_missing = missing_values_perc[missing_values_perc > 0]\n",
    "print('Variables with \"not applicable\" missing values')\n",
    "for var_type in ['Nominal', 'Ordinal', 'Scale']:\n",
    "    print(var_type)\n",
    "    var_name = not_applicable_names_dtypes.loc[not_applicable_names_dtypes.data_type == var_type, 'variable_name'].values\n",
    "    perc_missing = missing_values_perc_true_missing[not_applicable_names_dtypes.data_type == var_type]\n",
    "    id_sort = np.argsort(perc_missing)\n",
    "    \n",
    "    # I want to know what are the min/max values within any of these variables WHEN NOT APPLICABLE VALUES (AND THE OTHER MISSING CATEGORY) is EXCLUDED\n",
    "    # I artificially set them to 0, if the min value afterwards is 0 then I know that the variable is POSITIVE without the missing values\n",
    "    values_per_variable = df[var_name].values\n",
    "    values_per_variable[(values_per_variable == -8) | (values_per_variable == -7)] = 0\n",
    "    non_missing_values_min = np.nanmin(values_per_variable, axis=0)\n",
    "    non_missing_values_max = np.nanmax(values_per_variable, axis=0)\n",
    "    \n",
    "    print(var_name[id_sort])\n",
    "    print('{}/{} variable'.format(var_name.size, not_applicable_names_dtypes.shape[0]))\n",
    "    print('Percentage missing: {}'.format(perc_missing[id_sort]))\n",
    "    print('(Percentage missing min/max: {}/{})'.format(perc_missing.min(), perc_missing.max()))\n",
    "    print('Min/Max values of the variables:')\n",
    "    print('Min: {}'.format(non_missing_values_min[id_sort]))\n",
    "    print('Max: {}'.format(non_missing_values_max[id_sort]))\n",
    "    print()"
   ]
  },
  {
   "cell_type": "code",
   "execution_count": null,
   "metadata": {},
   "outputs": [],
   "source": [
    "# print(\"Let's see the 'distribution' of values in the nominal 'not applicable' variables\")\n",
    "# not_applicable_nominal = not_applicable_names_dtypes.loc[not_applicable_names_dtypes.data_type == 'Nominal', 'variable_name'].values\n",
    "# for var_name in not_applicable_nominal:\n",
    "#     print(df.loc[:, var_name].value_counts())\n",
    "#     print()"
   ]
  },
  {
   "cell_type": "code",
   "execution_count": null,
   "metadata": {},
   "outputs": [],
   "source": [
    "# print(\"Let's see the 'distribution' of values in the ordinal 'not applicable' variables\")\n",
    "# not_applicable_ordinal = not_applicable_names_dtypes.loc[not_applicable_names_dtypes.data_type == 'Ordinal', 'variable_name'].values\n",
    "# for var_name in not_applicable_ordinal:\n",
    "#     print(df.loc[:, var_name].value_counts())\n",
    "#     print()"
   ]
  },
  {
   "cell_type": "markdown",
   "metadata": {},
   "source": [
    "### From all the experiments above the following heuristic in dealing with 'not applicable' missing values is derived:\n",
    "1. drop all variables with more than 50% 'not applicable' values \n",
    "2. replace NOMINALLY scaled 'not applicable' values with a new category (will be done here just for further convenience -8 would already be a new category)\n",
    "3. replace ORDINALLY scaled 'not applicable' values with 0 (since SPSS codes ordinal values starting with 1, it seems a reasonable assumption that 'not applicable' is 'below' that)\n",
    "4. replace INTERVAL scaled 'not applicable' values with 0 (all the variables which have 'not applicable' values in them are positive (>0) so 0 is a natural choise for it)\n",
    "\n",
    "Let's do it!"
   ]
  },
  {
   "cell_type": "code",
   "execution_count": 10,
   "metadata": {},
   "outputs": [
    {
     "name": "stdout",
     "output_type": "stream",
     "text": [
      "Dropped variables:\n",
      "Index(['IIIA108_03', 'IIIA108_04', 'IIIA111_12', 'IIIA111_15', 'IIIA111_18',\n",
      "       'IVA351_02', 'IVA351_03', 'VA200_02'],\n",
      "      dtype='object')\n",
      "Percentage missing (value=-8): [64.08450704 64.08450704 65.69416499 98.89336016 96.98189135 53.42052314\n",
      " 53.42052314 57.14285714]\n"
     ]
    }
   ],
   "source": [
    "# 1. drop variables with >50% not applicable values\n",
    "df, df_dtypes, _ = check_for_missing(df=df, df_dtypes=df_dtypes, missing_value=-8, make_plot=False, threshold_to_drop_perc=50)"
   ]
  },
  {
   "cell_type": "code",
   "execution_count": 11,
   "metadata": {},
   "outputs": [],
   "source": [
    "# 2. replace nominal 'not applicable' values\n",
    "id_nominal = (df_dtypes.data_type == 'Nominal').values\n",
    "column_names = df_dtypes.variable_name.loc[id_nominal].values\n",
    "# build replace command\n",
    "to_replace = dict()\n",
    "for i, column_name in enumerate(column_names):\n",
    "    to_replace[column_name] = {-8: df[column_name].max() + 1}\n",
    "df.replace(to_replace=to_replace, value=None, inplace=True)"
   ]
  },
  {
   "cell_type": "code",
   "execution_count": 12,
   "metadata": {},
   "outputs": [],
   "source": [
    "# 3. + 4. replace all other 'not applicable' values with 0\n",
    "df.replace(to_replace=-8, value=0, inplace=True)"
   ]
  },
  {
   "cell_type": "markdown",
   "metadata": {},
   "source": [
    "### Final missing category: -7 - 'could not be calculated'"
   ]
  },
  {
   "cell_type": "code",
   "execution_count": 13,
   "metadata": {},
   "outputs": [
    {
     "data": {
      "image/png": "[encoded data removed]",
      "text/plain": [
       "<Figure size 432x288 with 1 Axes>"
      ]
     },
     "metadata": {
      "needs_background": "light"
     },
     "output_type": "display_data"
    }
   ],
   "source": [
    "_, _, missing_percentages = check_for_missing(df, df_dtypes, missing_value=-7)"
   ]
  },
  {
   "cell_type": "markdown",
   "metadata": {},
   "source": [
    "### Very very low \"missing\" percentages except for one variable with >70% missing values (which will be dropped). The rest of the variables will be coded as NaN and considered for imputation"
   ]
  },
  {
   "cell_type": "code",
   "execution_count": 14,
   "metadata": {},
   "outputs": [
    {
     "name": "stdout",
     "output_type": "stream",
     "text": [
      "Dropped variables:\n",
      "Index(['IIIA239_summary'], dtype='object')\n",
      "Percentage missing (value=-7): [71.62977867]\n"
     ]
    }
   ],
   "source": [
    "df, df_dtypes, _ = check_for_missing(df, df_dtypes, missing_value=-7, make_plot=False, replace_missing=True, threshold_to_drop_perc=70)"
   ]
  },
  {
   "cell_type": "code",
   "execution_count": 15,
   "metadata": {},
   "outputs": [
    {
     "name": "stdout",
     "output_type": "stream",
     "text": [
      "Final data set size (with missing values)\n",
      "(994, 708)\n"
     ]
    }
   ],
   "source": [
    "print('Final data set size (with missing values)')\n",
    "print(df.shape)"
   ]
  },
  {
   "cell_type": "code",
   "execution_count": 16,
   "metadata": {},
   "outputs": [],
   "source": [
    "final_perc_missing = df.isnull().sum()/df.shape[0] * 100"
   ]
  },
  {
   "cell_type": "code",
   "execution_count": 17,
   "metadata": {},
   "outputs": [
    {
     "data": {
      "text/plain": [
       "<matplotlib.axes._subplots.AxesSubplot at 0x7f80e6163518>"
      ]
     },
     "execution_count": 17,
     "metadata": {},
     "output_type": "execute_result"
    },
    {
     "data": {
      "image/png": "[encoded data removed]",
      "text/plain": [
       "<Figure size 432x288 with 1 Axes>"
      ]
     },
     "metadata": {
      "needs_background": "light"
     },
     "output_type": "display_data"
    }
   ],
   "source": [
    "sns.distplot(final_perc_missing, rug=True)"
   ]
  },
  {
   "cell_type": "markdown",
   "metadata": {},
   "source": [
    "### So we have variables with missing values ranging from 0 to 15% "
   ]
  },
  {
   "cell_type": "code",
   "execution_count": 18,
   "metadata": {},
   "outputs": [
    {
     "name": "stdout",
     "output_type": "stream",
     "text": [
      "Variables without missing data:\n",
      "138\n"
     ]
    }
   ],
   "source": [
    "print('Variables without missing data:')\n",
    "print((final_perc_missing == 0).sum())"
   ]
  },
  {
   "cell_type": "code",
   "execution_count": 19,
   "metadata": {},
   "outputs": [],
   "source": [
    "# Let's store everything\n",
    "df['persistance_anxiety'] = y\n",
    "df.to_csv('nesda_anxiety_with_missing_NaN.csv', index=False)\n",
    "df_dtypes.to_csv('nesda_anxiety_data_types_with_missing_removed.csv', index=False)"
   ]
  }
 ],
 "metadata": {
  "kernelspec": {
   "display_name": "Python 3",
   "language": "python",
   "name": "python3"
  },
  "language_info": {
   "codemirror_mode": {
    "name": "ipython",
    "version": 3
   },
   "file_extension": ".py",
   "mimetype": "text/x-python",
   "name": "python",
   "nbconvert_exporter": "python",
   "pygments_lexer": "ipython3",
   "version": "3.7.0"
  }
 },
 "nbformat": 4,
 "nbformat_minor": 2
}
